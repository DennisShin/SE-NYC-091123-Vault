{
 "cells": [
  {
   "cell_type": "markdown",
   "id": "edc9913b-9380-4044-b069-9fa84780a678",
   "metadata": {},
   "source": [
    "---\n",
    "---\n",
    "---"
   ]
  },
  {
   "cell_type": "markdown",
   "id": "e4ed1bab-54e7-4776-ac45-aa643c0fc971",
   "metadata": {},
   "source": [
    "Starting off, we always want to take some time (5-10 minutes) to architect and understand the **object relationships** that are required of us to develop.\n",
    "\n",
    "In this specific case, we're given some important guidelines:\n",
    "- We have three models: `Pizza`, `Customer`, and `Order`\n",
    "- A `Pizza` can have many `Order` instances\n",
    "- A `Customer` can have many `Order` instances\n",
    "- A `Order` instance belongs to an instance of `Customer` and to an instance of `Pizza`\n",
    "- `Pizza` - `Customer` is a many-to-many relationship\n",
    "\n",
    "In other words, we are given that we have two primary models (`Pizza` and `Customer`) that represent our user-facing (top-level) object abstractions while our third model (`Order`) serves as an under-the-hood way to associate the two primary models in our prototype database.\n",
    "\n",
    "It's likely then that `Pizza` and `Customer` are going to be analogously architected (with differences depending more particularly in terms of _how_ they're used from a user level) while `Order` is going to be more intricately engineered to \"tether together\" attributes and methodology between `Pizza` and `Customer`."
   ]
  },
  {
   "cell_type": "markdown",
   "id": "6d2ff21d-5995-41e1-8411-eb3c5aed0fdd",
   "metadata": {},
   "source": [
    "---\n",
    "---"
   ]
  },
  {
   "cell_type": "markdown",
   "id": "268946de-cfa2-49d6-820a-441ee782ef04",
   "metadata": {},
   "source": [
    "## Initial Object Model States"
   ]
  },
  {
   "cell_type": "code",
   "execution_count": 1,
   "id": "92bb145a-6c66-4546-bdb8-411610a5d6e3",
   "metadata": {},
   "outputs": [],
   "source": [
    "class Pizza:\n",
    "    def __init__(self, name):\n",
    "        self.name = name\n",
    "        \n",
    "    def orders(self, new_order=None):\n",
    "        from classes.order import Order\n",
    "        pass\n",
    "    \n",
    "    def customers(self, new_customer=None):\n",
    "        from classes.customer import Customer\n",
    "        pass\n",
    "    \n",
    "    def num_orders(self):\n",
    "        pass\n",
    "    \n",
    "    def average_price(self):\n",
    "        pass"
   ]
  },
  {
   "cell_type": "code",
   "execution_count": 2,
   "id": "07218428-6347-4887-b803-1401f697f91c",
   "metadata": {},
   "outputs": [],
   "source": [
    "class Customer:\n",
    "    def __init__(self, name):\n",
    "        self.name = name\n",
    "        \n",
    "    def orders(self, new_order=None):\n",
    "        from classes.order import Order\n",
    "        pass\n",
    "    \n",
    "    def pizzas(self, new_pizza=None):\n",
    "        from classes.pizza import Pizza\n",
    "        pass"
   ]
  },
  {
   "cell_type": "code",
   "execution_count": 3,
   "id": "328ddc73-a8db-4b32-9787-532766e8597d",
   "metadata": {},
   "outputs": [],
   "source": [
    "class Order:\n",
    "\n",
    "    def __init__(self, customer, pizza, price):\n",
    "        self.customer = customer\n",
    "        self.pizza = pizza\n",
    "        self.price = price"
   ]
  },
  {
   "cell_type": "markdown",
   "id": "8f5c7bce-3ad7-4228-aa58-bec0321d91ed",
   "metadata": {},
   "source": [
    "---\n",
    "---"
   ]
  },
  {
   "cell_type": "markdown",
   "id": "de6a1b3e-a5bc-43aa-8608-7fc142f86687",
   "metadata": {},
   "source": [
    "## Final Deliverable Models"
   ]
  },
  {
   "cell_type": "code",
   "execution_count": null,
   "id": "af714776-4b7f-465b-a4c8-e0dd8884fa65",
   "metadata": {},
   "outputs": [],
   "source": [
    "class Pizza:\n",
    "    def __init__(self, name):\n",
    "        self._name = name\n",
    "        self._orders = []\n",
    "        self._customers = []\n",
    "\n",
    "    @property\n",
    "    def name(self):\n",
    "        return self._name\n",
    "\n",
    "    @name.setter\n",
    "    def name(self, name):\n",
    "        NAME_IS_STR = isinstance(name, str)\n",
    "        NAME_EXISTS = (not hasattr(self, \"name\"))\n",
    "        if NAME_IS_STR and NAME_EXISTS:\n",
    "            self._name = name\n",
    "        else:\n",
    "            raise Exception(\"`Pizza.name` already exists!\")\n",
    "\n",
    "    def orders(self, new_order=None):\n",
    "        ORDER_ALREADY_CREATED = (new_order is not None)\n",
    "        ORDER_TYPE_IS_VALID = isinstance(new_order, Order)\n",
    "        if ORDER_ALREADY_CREATED and ORDER_TYPE_IS_VALID:\n",
    "            self._orders.append(new_order)\n",
    "        return self._orders\n",
    "\n",
    "    def customers(self, new_customer=None):\n",
    "        CUSTOMER_IS_UNIQUE = (new_customer not in self._customers)\n",
    "        CUSTOMER_TYPE_IS_VALID = isinstance(new_customer, Customer)\n",
    "        if CUSTOMER_IS_UNIQUE and CUSTOMER_TYPE_IS_VALID:\n",
    "            self._customers.append(new_customer)\n",
    "        return self._customers\n",
    "\n",
    "    def total_orders(self):\n",
    "        return len(self._orders)\n",
    "\n",
    "    def average_price(self):\n",
    "        return round(sum([order.price for order in self._orders]) / self.total_orders(), 2)"
   ]
  },
  {
   "cell_type": "code",
   "execution_count": null,
   "id": "e76d8129-c652-44ea-ac9f-52146515a366",
   "metadata": {},
   "outputs": [],
   "source": [
    "class Customer:\n",
    "    def __init__(self, name):\n",
    "        self._name = name\n",
    "        self._orders = []\n",
    "        self._pizzas = []\n",
    "\n",
    "    @property\n",
    "    def name(self):\n",
    "        return self._name\n",
    "\n",
    "    @name.setter\n",
    "    def name(self, name):\n",
    "        NAME_IS_STR = isinstance(name, str)\n",
    "        NAME_WITHIN_ACCEPTABLE_LENGTH = (1 <= len(name) <= 15)\n",
    "        if NAME_IS_STR and NAME_WITHIN_ACCEPTABLE_LENGTH:\n",
    "            self._name = name\n",
    "        else:\n",
    "            raise Exception(\"Unacceptable data format for `Customer.name`!\")\n",
    "\n",
    "    def orders(self, new_order=None):\n",
    "        ORDER_ALREADY_CREATED = (new_order is not None)\n",
    "        ORDER_TYPE_IS_VALID = isinstance(new_order, Order)\n",
    "        if ORDER_ALREADY_CREATED and ORDER_TYPE_IS_VALID:\n",
    "            self._orders.append(new_order)\n",
    "        return self._orders\n",
    "\n",
    "    def pizzas(self, new_pizza=None):\n",
    "        PIZZA_ALREADY_CREATED = (new_pizza is not None)\n",
    "        PIZZA_TYPE_IS_VALID = isinstance(new_pizza, Pizza)\n",
    "        PIZZA_IS_UNIQUE = (new_pizza not in self._pizzas)\n",
    "        if PIZZA_ALREADY_CREATED and PIZZA_TYPE_IS_VALID and PIZZA_IS_UNIQUE:\n",
    "            self._pizzas.append(new_pizza)\n",
    "        return self._pizzas"
   ]
  },
  {
   "cell_type": "code",
   "execution_count": null,
   "id": "fab87d82-3b36-4aa8-91fa-bd1447841f5f",
   "metadata": {},
   "outputs": [],
   "source": [
    "class Order:\n",
    "    catalog = []\n",
    "\n",
    "    def __init__(self, customer, pizza, price):\n",
    "        self._customer = customer\n",
    "        self._pizza = pizza\n",
    "        self._price = price\n",
    "\n",
    "        Order.catalog.append(self)\n",
    "\n",
    "        pizza.orders(self)\n",
    "        pizza.customers(customer)\n",
    "        \n",
    "        customer.orders(self)\n",
    "        customer.pizzas(pizza)\n",
    "\n",
    "    def __repr__(self):\n",
    "        return f\"{self.customer.name} ordered a {self.pizza.name}.\"\n",
    "\n",
    "    @property\n",
    "    def price(self):\n",
    "        return self._price\n",
    "\n",
    "    @price.setter\n",
    "    def price(self, price):\n",
    "        PRICE_IS_NUMERICAL = (type(price) in (int, float))\n",
    "        PRICE_WITHIN_ACCEPTABLE_RANGE = (0.25 <= price <= 20)\n",
    "        if PRICE_IS_NUMERICAL and PRICE_WITHIN_ACCEPTABLE_RANGE:\n",
    "            self._price = price\n",
    "        else:\n",
    "            raise Exception(\"Unacceptable data format for `Order.price`!\")\n",
    "\n",
    "    @property\n",
    "    def customer(self):\n",
    "        return self._customer\n",
    "\n",
    "    @customer.setter\n",
    "    def customer(self, customer):\n",
    "        CUSTOMER_TYPE_IS_VALID = isinstance(customer, Customer)\n",
    "        if CUSTOMER_TYPE_IS_VALID:\n",
    "            self._customer = customer\n",
    "        else:\n",
    "            raise Exception(\"Unacceptable data type for `Order.customer`!\")\n",
    "\n",
    "    @property\n",
    "    def pizza(self):\n",
    "        return self._pizza\n",
    "\n",
    "    @pizza.setter\n",
    "    def pizza(self, pizza):\n",
    "        PIZZA_TYPE_IS_VALID = isinstance(pizza, Pizza)\n",
    "        if PIZZA_TYPE_IS_VALID:\n",
    "            self._pizza = pizza\n",
    "        else:\n",
    "            raise Exception(\"Unacceptable data type for `Order.pizza`!\")"
   ]
  },
  {
   "cell_type": "markdown",
   "id": "bc2b027f-708b-46e0-9d1d-cec4564140a1",
   "metadata": {},
   "source": [
    "---\n",
    "---\n",
    "---"
   ]
  }
 ],
 "metadata": {
  "kernelspec": {
   "display_name": "Python 3 (ipykernel)",
   "language": "python",
   "name": "python3"
  },
  "language_info": {
   "codemirror_mode": {
    "name": "ipython",
    "version": 3
   },
   "file_extension": ".py",
   "mimetype": "text/x-python",
   "name": "python",
   "nbconvert_exporter": "python",
   "pygments_lexer": "ipython3",
   "version": "3.11.3"
  }
 },
 "nbformat": 4,
 "nbformat_minor": 5
}
